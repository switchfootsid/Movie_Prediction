{
 "cells": [
  {
   "cell_type": "markdown",
   "metadata": {},
   "source": [
    "### Task1: Cleaning dataset\n",
    "### Task2: Dropping irrelevant features\n",
    "\n",
    "### Task3: Features + Target variables\n",
    "\n",
    "### Task4: LabelEncoding + OneHotEncoding\n",
    "\n",
    "### Task5: Feature Selection: Random Forest and Linear Regression\n",
    "\n",
    "### Task6: Ranking and interpreting"
   ]
  },
  {
   "cell_type": "code",
   "execution_count": 10,
   "metadata": {
    "collapsed": false
   },
   "outputs": [
    {
     "name": "stdout",
     "output_type": "stream",
     "text": [
      "The scikit-learn version is 0.18.1.\n"
     ]
    }
   ],
   "source": [
    "import pandas as pd\n",
    "import sklearn\n",
    "from sklearn.ensemble import RandomForestRegressor, ExtraTreesRegressor\n",
    "import numpy as np\n",
    "print('The scikit-learn version is {}.'.format(sklearn.__version__))\n"
   ]
  },
  {
   "cell_type": "code",
   "execution_count": 2,
   "metadata": {
    "collapsed": false
   },
   "outputs": [
    {
     "data": {
      "text/html": [
       "<div>\n",
       "<table border=\"1\" class=\"dataframe\">\n",
       "  <thead>\n",
       "    <tr style=\"text-align: right;\">\n",
       "      <th></th>\n",
       "      <th>movies</th>\n",
       "      <th>Date</th>\n",
       "      <th>slots</th>\n",
       "      <th>IsWeekend</th>\n",
       "      <th>Meta_Genre</th>\n",
       "      <th>Director_Buckets</th>\n",
       "      <th>IMDB_Buckets</th>\n",
       "      <th>Star_dom</th>\n",
       "      <th>Content_Buckets</th>\n",
       "      <th>TVT</th>\n",
       "      <th>...</th>\n",
       "      <th>Avg_TVT_Weekly_Till_Date_Previous</th>\n",
       "      <th>No_Of_Times_Played_Last_Week</th>\n",
       "      <th>Avg_Day_Gap_Last_Week</th>\n",
       "      <th>Avg_TVT_Monthly_Till_Date_Previous</th>\n",
       "      <th>No_Of_Times_Played_Last_Month</th>\n",
       "      <th>Avg_Day_Gap_Last_Month</th>\n",
       "      <th>Last_15_days_Avg_TVT</th>\n",
       "      <th>Last_15_days_No_Of_Times_Played</th>\n",
       "      <th>Last_30_days_Avg_TVT</th>\n",
       "      <th>Last_30_days_No_Of_Times_Played</th>\n",
       "    </tr>\n",
       "  </thead>\n",
       "  <tbody>\n",
       "    <tr>\n",
       "      <th>0</th>\n",
       "      <td>102 DALMATIANS</td>\n",
       "      <td>2015-10-10</td>\n",
       "      <td>Morning</td>\n",
       "      <td>1</td>\n",
       "      <td>family_fantasy</td>\n",
       "      <td>Medium</td>\n",
       "      <td>Medium</td>\n",
       "      <td>7</td>\n",
       "      <td>General/Children</td>\n",
       "      <td>8.814232</td>\n",
       "      <td>...</td>\n",
       "      <td>NaN</td>\n",
       "      <td>NaN</td>\n",
       "      <td>NaN</td>\n",
       "      <td>NaN</td>\n",
       "      <td>NaN</td>\n",
       "      <td>NaN</td>\n",
       "      <td>NaN</td>\n",
       "      <td>0</td>\n",
       "      <td>NaN</td>\n",
       "      <td>0</td>\n",
       "    </tr>\n",
       "    <tr>\n",
       "      <th>1</th>\n",
       "      <td>102 DALMATIANS</td>\n",
       "      <td>2016-02-05</td>\n",
       "      <td>Late Night</td>\n",
       "      <td>0</td>\n",
       "      <td>family_fantasy</td>\n",
       "      <td>Medium</td>\n",
       "      <td>Medium</td>\n",
       "      <td>7</td>\n",
       "      <td>General/Children</td>\n",
       "      <td>0.700721</td>\n",
       "      <td>...</td>\n",
       "      <td>8.814232</td>\n",
       "      <td>1.0</td>\n",
       "      <td>NaN</td>\n",
       "      <td>8.814232</td>\n",
       "      <td>1.0</td>\n",
       "      <td>NaN</td>\n",
       "      <td>NaN</td>\n",
       "      <td>0</td>\n",
       "      <td>NaN</td>\n",
       "      <td>0</td>\n",
       "    </tr>\n",
       "    <tr>\n",
       "      <th>2</th>\n",
       "      <td>102 DALMATIANS</td>\n",
       "      <td>2016-02-06</td>\n",
       "      <td>Late Night</td>\n",
       "      <td>1</td>\n",
       "      <td>family_fantasy</td>\n",
       "      <td>Medium</td>\n",
       "      <td>Medium</td>\n",
       "      <td>7</td>\n",
       "      <td>General/Children</td>\n",
       "      <td>0.510498</td>\n",
       "      <td>...</td>\n",
       "      <td>0.700721</td>\n",
       "      <td>1.0</td>\n",
       "      <td>NaN</td>\n",
       "      <td>0.700721</td>\n",
       "      <td>1.0</td>\n",
       "      <td>NaN</td>\n",
       "      <td>0.700721</td>\n",
       "      <td>1</td>\n",
       "      <td>0.700721</td>\n",
       "      <td>1</td>\n",
       "    </tr>\n",
       "    <tr>\n",
       "      <th>3</th>\n",
       "      <td>102 DALMATIANS</td>\n",
       "      <td>2016-02-19</td>\n",
       "      <td>Afternoon</td>\n",
       "      <td>0</td>\n",
       "      <td>family_fantasy</td>\n",
       "      <td>Medium</td>\n",
       "      <td>Medium</td>\n",
       "      <td>7</td>\n",
       "      <td>General/Children</td>\n",
       "      <td>14.501018</td>\n",
       "      <td>...</td>\n",
       "      <td>0.605609</td>\n",
       "      <td>2.0</td>\n",
       "      <td>1.0</td>\n",
       "      <td>0.605609</td>\n",
       "      <td>1.0</td>\n",
       "      <td>NaN</td>\n",
       "      <td>0.605609</td>\n",
       "      <td>2</td>\n",
       "      <td>0.605609</td>\n",
       "      <td>2</td>\n",
       "    </tr>\n",
       "    <tr>\n",
       "      <th>4</th>\n",
       "      <td>102 DALMATIANS</td>\n",
       "      <td>2016-03-16</td>\n",
       "      <td>Morning</td>\n",
       "      <td>0</td>\n",
       "      <td>family_fantasy</td>\n",
       "      <td>Medium</td>\n",
       "      <td>Medium</td>\n",
       "      <td>7</td>\n",
       "      <td>General/Children</td>\n",
       "      <td>10.914187</td>\n",
       "      <td>...</td>\n",
       "      <td>14.501018</td>\n",
       "      <td>1.0</td>\n",
       "      <td>NaN</td>\n",
       "      <td>5.237412</td>\n",
       "      <td>3.0</td>\n",
       "      <td>7.0</td>\n",
       "      <td>NaN</td>\n",
       "      <td>0</td>\n",
       "      <td>14.501018</td>\n",
       "      <td>1</td>\n",
       "    </tr>\n",
       "  </tbody>\n",
       "</table>\n",
       "<p>5 rows × 23 columns</p>\n",
       "</div>"
      ],
      "text/plain": [
       "           movies       Date       slots  IsWeekend      Meta_Genre  \\\n",
       "0  102 DALMATIANS 2015-10-10     Morning          1  family_fantasy   \n",
       "1  102 DALMATIANS 2016-02-05  Late Night          0  family_fantasy   \n",
       "2  102 DALMATIANS 2016-02-06  Late Night          1  family_fantasy   \n",
       "3  102 DALMATIANS 2016-02-19   Afternoon          0  family_fantasy   \n",
       "4  102 DALMATIANS 2016-03-16     Morning          0  family_fantasy   \n",
       "\n",
       "  Director_Buckets IMDB_Buckets  Star_dom   Content_Buckets        TVT  \\\n",
       "0           Medium       Medium         7  General/Children   8.814232   \n",
       "1           Medium       Medium         7  General/Children   0.700721   \n",
       "2           Medium       Medium         7  General/Children   0.510498   \n",
       "3           Medium       Medium         7  General/Children  14.501018   \n",
       "4           Medium       Medium         7  General/Children  10.914187   \n",
       "\n",
       "                ...                 Avg_TVT_Weekly_Till_Date_Previous  \\\n",
       "0               ...                                               NaN   \n",
       "1               ...                                          8.814232   \n",
       "2               ...                                          0.700721   \n",
       "3               ...                                          0.605609   \n",
       "4               ...                                         14.501018   \n",
       "\n",
       "   No_Of_Times_Played_Last_Week  Avg_Day_Gap_Last_Week  \\\n",
       "0                           NaN                    NaN   \n",
       "1                           1.0                    NaN   \n",
       "2                           1.0                    NaN   \n",
       "3                           2.0                    1.0   \n",
       "4                           1.0                    NaN   \n",
       "\n",
       "   Avg_TVT_Monthly_Till_Date_Previous  No_Of_Times_Played_Last_Month  \\\n",
       "0                                 NaN                            NaN   \n",
       "1                            8.814232                            1.0   \n",
       "2                            0.700721                            1.0   \n",
       "3                            0.605609                            1.0   \n",
       "4                            5.237412                            3.0   \n",
       "\n",
       "   Avg_Day_Gap_Last_Month  Last_15_days_Avg_TVT  \\\n",
       "0                     NaN                   NaN   \n",
       "1                     NaN                   NaN   \n",
       "2                     NaN              0.700721   \n",
       "3                     NaN              0.605609   \n",
       "4                     7.0                   NaN   \n",
       "\n",
       "   Last_15_days_No_Of_Times_Played  Last_30_days_Avg_TVT  \\\n",
       "0                                0                   NaN   \n",
       "1                                0                   NaN   \n",
       "2                                1              0.700721   \n",
       "3                                2              0.605609   \n",
       "4                                0             14.501018   \n",
       "\n",
       "   Last_30_days_No_Of_Times_Played  \n",
       "0                                0  \n",
       "1                                0  \n",
       "2                                1  \n",
       "3                                2  \n",
       "4                                1  \n",
       "\n",
       "[5 rows x 23 columns]"
      ]
     },
     "execution_count": 2,
     "metadata": {},
     "output_type": "execute_result"
    }
   ],
   "source": [
    "rft_df = pd.read_excel('../24th_Jan/Dataset_31-1-2017_newMetric.xlsx')\n",
    "#rft_df.rename(columns={'date(yyyy-mm-dd) Original':'date'}, inplace=True)\n",
    "rft_df.head()"
   ]
  },
  {
   "cell_type": "markdown",
   "metadata": {},
   "source": [
    "Note - dropping na"
   ]
  },
  {
   "cell_type": "code",
   "execution_count": 23,
   "metadata": {
    "collapsed": false
   },
   "outputs": [
    {
     "name": "stdout",
     "output_type": "stream",
     "text": [
      "Raw features: \n",
      "movies\n",
      "Date\n",
      "slots\n",
      "IsWeekend\n",
      "Meta_Genre\n",
      "Director_Buckets\n",
      "IMDB_Buckets\n",
      "Star_dom\n",
      "Content_Buckets\n",
      "TVT\n",
      "Days_Since_Last_Played\n",
      "TVT_Last_Played\n",
      "TVT_Change_Since_Last_Day\n",
      "Avg_TVT_Weekly_Till_Date_Previous\n",
      "No_Of_Times_Played_Last_Week\n",
      "Avg_Day_Gap_Last_Week\n",
      "Avg_TVT_Monthly_Till_Date_Previous\n",
      "No_Of_Times_Played_Last_Month\n",
      "Avg_Day_Gap_Last_Month\n",
      "Last_15_days_Avg_TVT\n",
      "Last_15_days_No_Of_Times_Played\n",
      "Last_30_days_Avg_TVT\n",
      "Last_30_days_No_Of_Times_Played\n",
      "High Correlations: \n",
      "\n"
     ]
    },
    {
     "data": {
      "text/plain": [
       "Last_30_days_No_Of_Times_Played     Last_15_days_No_Of_Times_Played       0.891200\n",
       "Last_30_days_Avg_TVT                Avg_TVT_Monthly_Till_Date_Previous    0.831549\n",
       "Avg_TVT_Weekly_Till_Date_Previous   TVT_Last_Played                       0.821487\n",
       "Last_30_days_No_Of_Times_Played     No_Of_Times_Played_Last_Month         0.813098\n",
       "Last_30_days_Avg_TVT                Last_15_days_Avg_TVT                  0.811036\n",
       "Avg_TVT_Monthly_Till_Date_Previous  Avg_TVT_Weekly_Till_Date_Previous     0.805824\n",
       "                                    TVT_Last_Played                       0.803405\n",
       "Last_15_days_Avg_TVT                Avg_TVT_Monthly_Till_Date_Previous    0.780264\n",
       "Last_30_days_Avg_TVT                Avg_TVT_Weekly_Till_Date_Previous     0.697352\n",
       "Last_15_days_Avg_TVT                Avg_TVT_Weekly_Till_Date_Previous     0.695660\n",
       "                                    TVT_Last_Played                       0.682610\n",
       "Last_30_days_Avg_TVT                TVT_Last_Played                       0.673708\n",
       "Last_15_days_No_Of_Times_Played     No_Of_Times_Played_Last_Month         0.655735\n",
       "Last_30_days_No_Of_Times_Played     No_Of_Times_Played_Last_Week          0.630768\n",
       "Last_15_days_No_Of_Times_Played     No_Of_Times_Played_Last_Week          0.620588\n",
       "No_Of_Times_Played_Last_Month       No_Of_Times_Played_Last_Week          0.563631\n",
       "TVT_Change_Since_Last_Day           TVT_Last_Played                       0.538169\n",
       "dtype: float64"
      ]
     },
     "execution_count": 23,
     "metadata": {},
     "output_type": "execute_result"
    }
   ],
   "source": [
    "rft_df.fillna(value=0, inplace=True)\n",
    "#rft_df.dropna(inplace=True)\n",
    "raw = rft_df.columns.values.tolist()\n",
    "print 'Raw features: \\n',\n",
    "for each in raw:\n",
    "    print each\n",
    "raw = raw[2:]\n",
    "print 'High Correlations: \\n'\n",
    "cor = rft_df[raw].corr()\n",
    "cor.loc[:,:] = np.tril(cor, k=-1) # below main lower triangle of an array\n",
    "cor = cor.stack()\n",
    "(cor[(cor > 0.5) | (cor < -0.5)]).sort_values(ascending=False)"
   ]
  },
  {
   "cell_type": "code",
   "execution_count": 4,
   "metadata": {
    "collapsed": false
   },
   "outputs": [],
   "source": [
    "from sklearn import metrics\n",
    "\n",
    "#features =  rft_df.columns.values.tolist()\n",
    "\n",
    "retain = [\n",
    " u'slots',\n",
    " u'TVT',\n",
    " u'IsWeekend',\n",
    " u'Meta_Genre',\n",
    " u'Director_Buckets',\n",
    " u'IMDB_Buckets',\n",
    " u'Star_dom',\n",
    " u'Content_Buckets',\n",
    " u'Days_Since_Last_Played',\n",
    " u'TVT_Last_Played',\n",
    " u'No_Of_Times_Played_Last_Week',\n",
    " u'Avg_Day_Gap_Last_Week',\n",
    " u'Avg_Day_Gap_Last_Month',\n",
    " u'Last_30_days_Avg_TVT',\n",
    " u'Last_30_days_No_Of_Times_Played']\n",
    "\n",
    "target = ['TVT']"
   ]
  },
  {
   "cell_type": "code",
   "execution_count": 24,
   "metadata": {
    "collapsed": false
   },
   "outputs": [
    {
     "name": "stdout",
     "output_type": "stream",
     "text": [
      "Correlations in the reduced dataset\n"
     ]
    },
    {
     "data": {
      "text/plain": [
       "Last_30_days_Avg_TVT              TVT_Last_Played                 0.673708\n",
       "Last_30_days_No_Of_Times_Played   No_Of_Times_Played_Last_Week    0.630768\n",
       "Director_Buckets_Medium           Director_Buckets_High          -0.707242\n",
       "IMDB_Buckets_Medium               IMDB_Buckets_High              -0.870963\n",
       "Content_Buckets_General/Children  Content_Buckets_Adult          -0.984359\n",
       "dtype: float64"
      ]
     },
     "execution_count": 24,
     "metadata": {},
     "output_type": "execute_result"
    }
   ],
   "source": [
    "Y = rft_df['TVT'].values\n",
    "Y = Y.reshape(-1,1)\n",
    "X = pd.get_dummies(rft_df[retain])\n",
    "cor = X.corr()\n",
    "\n",
    "cor.loc[:,:] = np.tril(cor, k=-1) # below main lower triangle of an array\n",
    "cor = cor.stack()\n",
    "print 'Correlations in the reduced dataset'\n",
    "(cor[(cor > 0.5) | (cor < -0.5)]).sort_values(ascending=False)"
   ]
  },
  {
   "cell_type": "code",
   "execution_count": 16,
   "metadata": {
    "collapsed": false
   },
   "outputs": [
    {
     "name": "stdout",
     "output_type": "stream",
     "text": [
      "\n",
      "[u'TVT', u'IsWeekend', u'Star_dom', u'Days_Since_Last_Played', u'TVT_Last_Played', u'No_Of_Times_Played_Last_Week', u'Avg_Day_Gap_Last_Week', u'Avg_Day_Gap_Last_Month', u'Last_30_days_Avg_TVT', u'Last_30_days_No_Of_Times_Played', u'slots_Afternoon', u'slots_Evening', u'slots_Late Night', u'slots_Morning', u'Meta_Genre_action_thriller', u'Meta_Genre_adventure_action_thriller', u'Meta_Genre_comedy', u'Meta_Genre_crime_action', u'Meta_Genre_drama_war_history', u'Meta_Genre_family_fantasy', u'Meta_Genre_fantasy_adventure', u'Meta_Genre_romcom', u'Meta_Genre_scifi_adventure_action', u'Director_Buckets_High', u'Director_Buckets_Low', u'Director_Buckets_Medium', u'IMDB_Buckets_High', u'IMDB_Buckets_Low', u'IMDB_Buckets_Medium', u'Content_Buckets_Adult', u'Content_Buckets_General/Children', u'Content_Buckets_Others']\n",
      "\n",
      "[u'IsWeekend', u'Star_dom', u'Days_Since_Last_Played', u'TVT_Last_Played', u'No_Of_Times_Played_Last_Week', u'Avg_Day_Gap_Last_Week', u'Avg_Day_Gap_Last_Month', u'Last_30_days_Avg_TVT', u'Last_30_days_No_Of_Times_Played', u'slots_Afternoon', u'slots_Evening', u'slots_Late Night', u'slots_Morning', u'Meta_Genre_action_thriller', u'Meta_Genre_adventure_action_thriller', u'Meta_Genre_comedy', u'Meta_Genre_crime_action', u'Meta_Genre_drama_war_history', u'Meta_Genre_family_fantasy', u'Meta_Genre_fantasy_adventure', u'Meta_Genre_romcom', u'Meta_Genre_scifi_adventure_action', u'Director_Buckets_High', u'Director_Buckets_Low', u'Director_Buckets_Medium', u'IMDB_Buckets_High', u'IMDB_Buckets_Low', u'IMDB_Buckets_Medium', u'Content_Buckets_Adult', u'Content_Buckets_General/Children', u'Content_Buckets_Others']\n"
     ]
    }
   ],
   "source": [
    "#OneHotEncoding\n",
    "onehot = pd.get_dummies(rft_df[retain])\n",
    "features = onehot.columns.values.tolist()\n",
    "print '\\n', features\n",
    "features = features[1:]\n",
    "print '\\n', features"
   ]
  },
  {
   "cell_type": "code",
   "execution_count": 15,
   "metadata": {
    "collapsed": false
   },
   "outputs": [
    {
     "name": "stderr",
     "output_type": "stream",
     "text": [
      "/usr/local/lib/python2.7/dist-packages/ipykernel/__main__.py:10: DataConversionWarning: A column-vector y was passed when a 1d array was expected. Please change the shape of y to (n_samples,), for example using ravel().\n",
      "/usr/local/lib/python2.7/dist-packages/ipykernel/__main__.py:11: DataConversionWarning: A column-vector y was passed when a 1d array was expected. Please change the shape of y to (n_samples,), for example using ravel().\n"
     ]
    },
    {
     "name": "stdout",
     "output_type": "stream",
     "text": [
      "R squared 0.239570343083\n",
      "MAE  6.9709421785\n"
     ]
    }
   ],
   "source": [
    "from sklearn.cross_validation import train_test_split\n",
    "from sklearn.metrics import accuracy_score, mean_squared_error, mean_absolute_error, r2_score\n",
    "\n",
    "train, test = train_test_split(onehot, test_size=0.3)\n",
    "X_train = train[features].values\n",
    "Y_train = train[target].values.reshape(-1,1)\n",
    "\n",
    "X_test = test[features].values\n",
    "Y_test = test[target].values.reshape(-1,1)\n",
    "rf = RandomForestRegressor(oob_score=True, n_estimators=15, random_state=False).fit(X_train,Y_train)\n",
    "et = ExtraTreesRegressor(n_estimators=15, random_state=False).fit(X_train,Y_train)\n",
    "#print 'R squared',r2_score(Y_test, et.predict(X_test))\n",
    "print 'R squared',r2_score(Y_test, rf.predict(X_test))\n",
    "print 'MAE ', mean_absolute_error(Y_test, rf.predict(X_test))\n"
   ]
  },
  {
   "cell_type": "code",
   "execution_count": null,
   "metadata": {
    "collapsed": false
   },
   "outputs": [],
   "source": [
    "print \"Features sorted by their score:\"\n",
    "relevance = sorted(zip(map(lambda x: round(x, 4), rf.feature_importances_), features), \n",
    "                   reverse=True)\n",
    "\n",
    "\"\"\"\n",
    "(0.4309, u'Monthly_TVT')\n",
    "(0.2621, u'TVT_Change_Since_Last_Week')\n",
    "(0.0701, u'Avg_TVT_Last_Week')\n",
    "(0.0416, u'Days_Since_Last_Played')\n",
    "(0.0215, u'slots_Late Night')\n",
    "(0.0195, u'Quarterly_TVT')\n",
    "(0.0135, u'IsWeekend')\n",
    "(0.0122, u'Avg_TVT_Last_Month')\n",
    "\"\"\"\n",
    "\n",
    "\"\"\"\n",
    "(0.3675, u'TVT_Change_Since_Last_Week')\n",
    "(0.1269, u'Days_Since_Last_Played')\n",
    "(0.0539, u'Avg_TVT_Last_Week')\n",
    "(0.0457, u'Monthly_TVT')\n",
    "(0.0418, u'Quarterly_TVT')\n",
    "(0.0413, u'TVT_Change_Since_Last_Month')\n",
    "(0.0305, u'TVT_Change_Since_Last_Quarter')\n",
    "(0.0274, u'Avg_TVT_Last_Month')\n",
    "(0.0221, u'IsWeekend')\n",
    "(0.0211, u'No_Of_Times_Played_Last_Month')\n",
    "\"\"\"\n",
    "feature_ranks = []\n",
    "for each in relevance:\n",
    "    print each\n",
    "    feature_ranks.append(each[1])"
   ]
  },
  {
   "cell_type": "code",
   "execution_count": null,
   "metadata": {
    "collapsed": false
   },
   "outputs": [],
   "source": [
    "cor = onehot.corr()\n",
    "cor.loc[:,:] = np.tril(cor, k=-1) # below main lower triangle of an array\n",
    "cor = cor.stack()\n",
    "(cor[(cor > 0.5) | (cor < -0.5)]).sort_values(ascending=False)"
   ]
  },
  {
   "cell_type": "code",
   "execution_count": null,
   "metadata": {
    "collapsed": true
   },
   "outputs": [],
   "source": []
  }
 ],
 "metadata": {
  "kernelspec": {
   "display_name": "Python 2",
   "language": "python",
   "name": "python2"
  },
  "language_info": {
   "codemirror_mode": {
    "name": "ipython",
    "version": 2
   },
   "file_extension": ".py",
   "mimetype": "text/x-python",
   "name": "python",
   "nbconvert_exporter": "python",
   "pygments_lexer": "ipython2",
   "version": "2.7.6"
  }
 },
 "nbformat": 4,
 "nbformat_minor": 1
}
